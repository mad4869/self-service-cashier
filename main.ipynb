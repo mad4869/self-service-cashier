{
 "cells": [
  {
   "attachments": {},
   "cell_type": "markdown",
   "metadata": {},
   "source": [
    "BACKGROUND\n",
    "\n",
    "Andi adalah PEMILIK SUPERMARKET BESAR\n",
    "Ia ingin membuat SISTEM KASIR SELF-SERVICE\n",
    "Customer bisa langsung:\n",
    "    - MEMASUKKAN ITEM\n",
    "    - JUMLAH ITEM\n",
    "    - HARGA ITEM"
   ]
  },
  {
   "attachments": {},
   "cell_type": "markdown",
   "metadata": {},
   "source": [
    "1. Customer membuat ID TRANSAKSI\n",
    "    >>> Membuat OBJEK dari FUNCTION transaction_id = transaction()"
   ]
  },
  {
   "cell_type": "code",
   "execution_count": null,
   "metadata": {},
   "outputs": [],
   "source": [
    "from transaction import transaction\n",
    "\n",
    "transaction_id = transaction()\n",
    "print(transaction_id)"
   ]
  },
  {
   "attachments": {},
   "cell_type": "markdown",
   "metadata": {},
   "source": [
    "2. Customer memasukkan NAMA ITEM, JUMLAH ITEM, HARGA BARANG\n",
    "    >>> Dimasukkan ke dalam LIST sebagai PARAMETER dari FUNCTION\n",
    "    add_item([<nama item>, <jumlah item>, <harga per item>])"
   ]
  },
  {
   "cell_type": "code",
   "execution_count": null,
   "metadata": {},
   "outputs": [],
   "source": [
    "from inputs import input_item\n",
    "from add_item import add_item\n",
    "\n",
    "nama_items, jumlah_items, harga_items = input_item()\n",
    "\n",
    "order_items = add_item(nama_items, jumlah_items, harga_items)"
   ]
  },
  {
   "attachments": {},
   "cell_type": "markdown",
   "metadata": {},
   "source": [
    "3. Customer dapat melakukan UPDATE DATA\n",
    "    >>> UPDATE NAMA ITEM dengan FUNCTION update_nama_item(<nama item>, <update nama>)\n",
    "    >>> UPDATE JUMLAH ITEM dengan FUNCTION update_jumlah_item(<nama item>, <update jumlah>)\n",
    "    >>> UPDATE HARGA ITEM dengan FUNCTION update_harga_item(<nama item>, <update harga>)"
   ]
  },
  {
   "cell_type": "code",
   "execution_count": null,
   "metadata": {},
   "outputs": [],
   "source": [
    "from inputs import input_update_name\n",
    "from update_item import update_item_name\n",
    "\n",
    "nama_item, nama_item_baru = input_update_name(order_items)\n",
    "update_item_name(nama_item, nama_item_baru, order_items)"
   ]
  },
  {
   "cell_type": "code",
   "execution_count": null,
   "metadata": {},
   "outputs": [],
   "source": [
    "from inputs import input_update_qty\n",
    "from update_item import update_item_qty\n",
    "\n",
    "nama_item, jumlah_item = input_update_qty(order_items)\n",
    "update_item_qty(nama_item, jumlah_item, order_items)"
   ]
  },
  {
   "cell_type": "code",
   "execution_count": null,
   "metadata": {},
   "outputs": [],
   "source": [
    "from inputs import input_update_price\n",
    "from update_item import update_item_price\n",
    "\n",
    "nama_item, harga_item = input_update_price(order_items)\n",
    "update_item_price(nama_item, harga_item, order_items)"
   ]
  },
  {
   "attachments": {},
   "cell_type": "markdown",
   "metadata": {},
   "source": [
    "4. Customer dapat MEMBATALKAN TRANSAKSI\n",
    "    >>> MENGHAPUS ITEM dengan FUNCTION delete_item(<nama_item>)\n",
    "    >>> MENGHAPUS SEMUA TRANSAKSI dengan FUNCTION reset_transaction()"
   ]
  },
  {
   "cell_type": "code",
   "execution_count": null,
   "metadata": {},
   "outputs": [],
   "source": [
    "from inputs import input_delete\n",
    "from delete_item import delete_item\n",
    "\n",
    "nama_item = input_delete(order_items)\n",
    "\n",
    "delete_item(nama_item, order_items)"
   ]
  },
  {
   "cell_type": "code",
   "execution_count": null,
   "metadata": {},
   "outputs": [],
   "source": [
    "from delete_item import reset_transaction\n",
    "\n",
    "reset_transaction(order_items)"
   ]
  },
  {
   "attachments": {},
   "cell_type": "markdown",
   "metadata": {},
   "source": [
    "5. Customer dapat MEMERIKSA ULANG PESANAN\n",
    "    >>> Menggunakan FUNCTION check_order()\n",
    "        >>> Mengeluarkan pesan PEMESANAN SUDAH BENAR apabila TIDAK ADA KESALAHAN INPUT\n",
    "        >>> Mengeluarkan pesan TERDAPAT KESALAHAN INPUT apabila ADA KESALAHAN INPUT\n",
    "            >>> Mengeluarkan OUTPUT TRANSAKSI\n",
    "                >>> Terdiri dari NOMOR, NAMA ITEM, JUMLAH ITEM, HARGA/ITEM, TOTAL HARGA"
   ]
  },
  {
   "cell_type": "code",
   "execution_count": null,
   "metadata": {},
   "outputs": [],
   "source": [
    "from check_order import check_order\n",
    "\n",
    "table_items = check_order(order_items)"
   ]
  },
  {
   "attachments": {},
   "cell_type": "markdown",
   "metadata": {},
   "source": [
    "6. Customer dapat MENGHITUNG TOTAL BELANJA\n",
    "    >>> Menggunakan FUNCTION check_out()\n",
    "        >>> Jika TOTAL > 200_000 -> DISKON 5%\n",
    "        >>> Jika TOTAL > 300_000 -> DISKON 6%\n",
    "        >>> Jika TOTAL > 500_000 -> DISKON 7%\n",
    "    >>> Jika check_out() dijalankan -> DATA TRANSAKSI dimasukkan ke SQLITE DATABASE pada TABEL TRANSACTION menggunakan FUNCTION insert_to_table(<source_data>)\n",
    "        >>> Kolom yang disimpan:\n",
    "            i. no_id (auto increment)\n",
    "            ii. nama_item\n",
    "            iii. jumlah_item\n",
    "            iv. harga\n",
    "            v. total_harga\n",
    "            vi. diskon\n",
    "            vii. harga_diskon"
   ]
  },
  {
   "cell_type": "code",
   "execution_count": null,
   "metadata": {},
   "outputs": [],
   "source": [
    "from check_out import check_out\n",
    "\n",
    "check_out(table_items)"
   ]
  }
 ],
 "metadata": {
  "anaconda-cloud": {},
  "kernelspec": {
   "display_name": "Python 3 (ipykernel)",
   "language": "python",
   "name": "python3"
  },
  "language_info": {
   "codemirror_mode": {
    "name": "ipython",
    "version": 3
   },
   "file_extension": ".py",
   "mimetype": "text/x-python",
   "name": "python",
   "nbconvert_exporter": "python",
   "pygments_lexer": "ipython3",
   "version": "3.11.2"
  }
 },
 "nbformat": 4,
 "nbformat_minor": 4
}
